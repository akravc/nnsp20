{
  "nbformat": 4,
  "nbformat_minor": 0,
  "metadata": {
    "colab": {
      "name": "labels.ipynb",
      "provenance": [],
      "mount_file_id": "1mAe_k1KsOIVMCxabxtzDyi34kPR-7qD7",
      "authorship_tag": "ABX9TyPOLqg8bD2OT8JgQ9mOtBKK",
      "include_colab_link": true
    },
    "kernelspec": {
      "name": "python3",
      "display_name": "Python 3"
    }
  },
  "cells": [
    {
      "cell_type": "markdown",
      "metadata": {
        "id": "view-in-github",
        "colab_type": "text"
      },
      "source": [
        "<a href=\"https://colab.research.google.com/github/akravc/nnsp20/blob/master/labels.ipynb\" target=\"_parent\"><img src=\"https://colab.research.google.com/assets/colab-badge.svg\" alt=\"Open In Colab\"/></a>"
      ]
    },
    {
      "cell_type": "code",
      "metadata": {
        "id": "_7E8bnGZi7IQ",
        "colab_type": "code",
        "outputId": "f6782236-d3b1-4d0c-9151-cbd1851a5ffc",
        "colab": {
          "base_uri": "https://localhost:8080/",
          "height": 34
        }
      },
      "source": [
        "import torch\n",
        "import torch.nn as nn\n",
        "import numpy as np\n",
        "import torch.nn.functional as F\n",
        "import torch.optim as optim\n",
        "\n",
        "torch.manual_seed(1)"
      ],
      "execution_count": 1,
      "outputs": [
        {
          "output_type": "execute_result",
          "data": {
            "text/plain": [
              "<torch._C.Generator at 0x7f1724edb4b0>"
            ]
          },
          "metadata": {
            "tags": []
          },
          "execution_count": 1
        }
      ]
    },
    {
      "cell_type": "code",
      "metadata": {
        "id": "DtxfVbxwX9kH",
        "colab_type": "code",
        "colab": {}
      },
      "source": [
        "# FUNCTION TAKES A FILENAME (HAS TO BE MOUNTED ON YOUR GOOGLE DRIVE)\n",
        "# RETURNS A TENSOR OF ROWS IN THE FILE\n",
        "# n is the number of lines in file\n",
        "\n",
        "def rows (filename, n):\n",
        "  trace = open(filename, 'r')\n",
        "  lines = trace.readlines() \n",
        "\n",
        "  data = np.empty([n,4])\n",
        "  for i in range(n):\n",
        "    line = lines[i]\n",
        "    data[i] = np.array(list(map(int, line.split())))\n",
        "\n",
        "  return torch.tensor(data, dtype=torch.int32)"
      ],
      "execution_count": 0,
      "outputs": []
    },
    {
      "cell_type": "code",
      "metadata": {
        "id": "nkYrYfCvsB-F",
        "colab_type": "code",
        "colab": {}
      },
      "source": [
        "tensor100 = rows('/content/drive/My Drive/100k.txt', 100000)\n",
        "tensor600 = rows('/content/drive/My Drive/600k.txt', 600000)"
      ],
      "execution_count": 0,
      "outputs": []
    },
    {
      "cell_type": "code",
      "metadata": {
        "id": "fCayQ_j4sZt1",
        "colab_type": "code",
        "colab": {}
      },
      "source": [
        "#TAKES A 10-TIMESTEP CHUNK OF DATA\n",
        "#STARTING AT TIMESTEP TSTART\n",
        "#N IS ROWS IN THE FILE\n",
        "\n",
        "#THIS IS VERY CLEARLY HORRIBLY INEFFICIENT\n",
        "#CAN IMPROVE ON THIS LATER\n",
        "#OR NOT\n",
        "\n",
        "def chunk(filetensor, tstart, n):\n",
        "  # 100k file cuts off mid t=35, so round down to \n",
        "  # closest multiple of 10 + 1\n",
        "  # similar with 600k\n",
        "  maxtime = 0\n",
        "  if n == 100:\n",
        "    maxtime = 31\n",
        "  if n == 600:\n",
        "    maxtime = 211\n",
        "  \n",
        "  if (tstart + 10) > maxtime:\n",
        "    print(\"10 timesteps ahead is too far!\")\n",
        "  else:\n",
        "    output = []\n",
        "    for row in filetensor:\n",
        "      time = row[0]\n",
        "      if time >= tstart and time <= (tstart + 10):\n",
        "        output.append(np.array(row))\n",
        "    return torch.tensor(np.array(output))"
      ],
      "execution_count": 0,
      "outputs": []
    },
    {
      "cell_type": "code",
      "metadata": {
        "id": "R0vn0WhCtw7h",
        "colab_type": "code",
        "colab": {}
      },
      "source": [
        "zeroten = chunk(tensor100, 0, 100)"
      ],
      "execution_count": 0,
      "outputs": []
    },
    {
      "cell_type": "code",
      "metadata": {
        "id": "D6_rdGxGzG33",
        "colab_type": "code",
        "colab": {}
      },
      "source": [
        "#OUTPUTS DICTIONARY SUCH THAT\n",
        "#FOR EACH OBJECT ID IN TSTART\n",
        "#LABELED 1 IF IT APPEARS IN THE NEXT 10 STEPS\n",
        "#LABELED 0 IF IT DOES NOT APPEAR\n",
        "def label(chunk):\n",
        "  tstart = chunk[0][0]\n",
        "  tend = tstart + 10\n",
        "\n",
        "  # begin dictionary with \n",
        "  # all objects accessed in tstart\n",
        "  # assume we dont' see it again\n",
        "  output = {}\n",
        "  for row in chunk:\n",
        "    if row[0] == tstart:\n",
        "      obj_id = row[1]\n",
        "      output[int(obj_id)] = 0\n",
        "\n",
        "  #go thru all accesses in the next 10 timesteps\n",
        "  #put the ones that appear with a 1, and remove them\n",
        "  #from object list\n",
        "  for row in chunk:\n",
        "    if row[0] > tstart:\n",
        "      obj_id = int(row[1])\n",
        "      if obj_id in output.keys():\n",
        "        output[obj_id] = 1\n",
        "\n",
        "  return output"
      ],
      "execution_count": 0,
      "outputs": []
    },
    {
      "cell_type": "code",
      "metadata": {
        "id": "QYUfk92z104b",
        "colab_type": "code",
        "colab": {}
      },
      "source": [
        "#INPUT FILE NAME\n",
        "#OUTPUT FILE NAME\n",
        "#N is lines in file\n",
        "\n",
        "def generate_labels(inputfile, outputfile, n):\n",
        "  maxtime = 0\n",
        "  if n == 100:\n",
        "    maxtime = 21\n",
        "  if n == 600:\n",
        "    maxtime = 201\n",
        "\n",
        "  tensor = rows(inputfile, n*1000)\n",
        "\n",
        "  # GET all labels for each timestep\n",
        "  # store in dictionary of dictonaries\n",
        "  # { 0 : { 234: 1}, .. }\n",
        "  # where 0 is timestep, 234 is obj id, 1 is label\n",
        "  dic = {}\n",
        "  for i in range(maxtime):\n",
        "    ch = chunk(tensor, i, n)\n",
        "    dic[i] = label(ch)\n",
        "  \n",
        "  #open file to write and write to it\n",
        "  output = open(outputfile, 'w')\n",
        "  for row in tensor:\n",
        "    time = int(row[0])\n",
        "    if time >= maxtime:\n",
        "      break\n",
        "    obj_id = int(row[1])\n",
        "    obj_size = int(row[2])\n",
        "    extra = int(row[3])\n",
        "    lab = dic[time][obj_id]\n",
        "    line = [str(time), \" \", str(obj_id), \" \", str(obj_size), \" \", str(extra), \" \", str(lab), \"\\n\"]\n",
        "    output.writelines(\"\".join(line))\n",
        "\n",
        "  output.close()"
      ],
      "execution_count": 0,
      "outputs": []
    },
    {
      "cell_type": "code",
      "metadata": {
        "id": "FbUetpJK9e5K",
        "colab_type": "code",
        "colab": {
          "base_uri": "https://localhost:8080/",
          "height": 34
        },
        "outputId": "c6a8e63d-8689-4674-8d95-f7525771e44b"
      },
      "source": [
        "generate_labels('/content/drive/My Drive/100k.txt', \"/content/drive/My Drive/100labeled.txt\", 100)"
      ],
      "execution_count": 20,
      "outputs": [
        {
          "output_type": "stream",
          "text": [
            "all labeled\n"
          ],
          "name": "stdout"
        }
      ]
    },
    {
      "cell_type": "code",
      "metadata": {
        "id": "WJMKZrQaAcxq",
        "colab_type": "code",
        "colab": {}
      },
      "source": [
        "generate_labels('/content/drive/My Drive/600k.txt', \"/content/drive/My Drive/600labeled.txt\", 600)"
      ],
      "execution_count": 0,
      "outputs": []
    }
  ]
}