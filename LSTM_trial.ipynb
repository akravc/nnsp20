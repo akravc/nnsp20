{
  "nbformat": 4,
  "nbformat_minor": 0,
  "metadata": {
    "colab": {
      "name": "LSTM_trial.ipynb",
      "provenance": [],
      "mount_file_id": "1mAe_k1KsOIVMCxabxtzDyi34kPR-7qD7",
      "authorship_tag": "ABX9TyPAmfewNnWEDaRaXn+cI/vF",
      "include_colab_link": true
    },
    "kernelspec": {
      "name": "python3",
      "display_name": "Python 3"
    }
  },
  "cells": [
    {
      "cell_type": "markdown",
      "metadata": {
        "id": "view-in-github",
        "colab_type": "text"
      },
      "source": [
        "<a href=\"https://colab.research.google.com/github/akravc/nnsp20/blob/master/LSTM_trial.ipynb\" target=\"_parent\"><img src=\"https://colab.research.google.com/assets/colab-badge.svg\" alt=\"Open In Colab\"/></a>"
      ]
    },
    {
      "cell_type": "code",
      "metadata": {
        "id": "_7E8bnGZi7IQ",
        "colab_type": "code",
        "outputId": "691c7daa-e81d-4fd6-e26a-4a83341fa64f",
        "colab": {
          "base_uri": "https://localhost:8080/",
          "height": 34
        }
      },
      "source": [
        "import torch\n",
        "import torch.nn as nn\n",
        "import numpy as np\n",
        "import torch.nn.functional as F\n",
        "import torch.optim as optim\n",
        "\n",
        "torch.manual_seed(1)"
      ],
      "execution_count": 29,
      "outputs": [
        {
          "output_type": "execute_result",
          "data": {
            "text/plain": [
              "<torch._C.Generator at 0x7f1b28ff7df0>"
            ]
          },
          "metadata": {
            "tags": []
          },
          "execution_count": 29
        }
      ]
    },
    {
      "cell_type": "code",
      "metadata": {
        "id": "DtxfVbxwX9kH",
        "colab_type": "code",
        "outputId": "e2b3a33f-2776-4ccd-cf42-531984a0da6e",
        "colab": {
          "base_uri": "https://localhost:8080/",
          "height": 136
        }
      },
      "source": [
        "trace = open('/content/drive/My Drive/100k.txt', 'r')\n",
        "lines = trace.readlines()\n",
        "n = 100000\n",
        "\n",
        "data = np.empty([n,4])\n",
        "for i in range(n):\n",
        "  line = lines[i]\n",
        "  data[i] = np.array(list(map(int, line.split())))\n",
        "\n",
        "tens = torch.tensor(data, dtype=torch.int32)\n",
        "print(tens)\n"
      ],
      "execution_count": 40,
      "outputs": [
        {
          "output_type": "stream",
          "text": [
            "tensor([[    0,     0,  1594,     0],\n",
            "        [    0,     1,  3421,     0],\n",
            "        [    0,     2, 16079,     1],\n",
            "        ...,\n",
            "        [   35, 27786,  2560,     0],\n",
            "        [   35, 62471,  8238,     0],\n",
            "        [   35, 62472, 12817,     1]], dtype=torch.int32)\n"
          ],
          "name": "stdout"
        }
      ]
    }
  ]
}